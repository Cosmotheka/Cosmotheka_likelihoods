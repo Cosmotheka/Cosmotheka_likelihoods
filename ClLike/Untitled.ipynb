{
 "cells": [
  {
   "cell_type": "code",
   "execution_count": 1,
   "id": "218652b7-42ca-4373-9443-81ab0817a946",
   "metadata": {},
   "outputs": [],
   "source": [
    "from cobaya.model import get_model\n",
    "from cobaya.run import run\n",
    "import yaml\n",
    "import os\n",
    "\n",
    "import numpy as np"
   ]
  },
  {
   "cell_type": "code",
   "execution_count": 2,
   "id": "869fd12f-d9b7-4a9f-9f84-7e5f8817f0b3",
   "metadata": {},
   "outputs": [],
   "source": [
    "# Read in the yaml file\n",
    "config_fn = 'test_wisc.yaml'\n",
    "with open(config_fn, \"r\") as fin:\n",
    "    info = yaml.load(fin, Loader=yaml.FullLoader)\n"
   ]
  },
  {
   "cell_type": "code",
   "execution_count": 3,
   "id": "16ac91cc-c241-41c7-85cf-aacd1d6024f4",
   "metadata": {},
   "outputs": [
    {
     "name": "stdout",
     "output_type": "stream",
     "text": [
      "[model] *WARNING* Ignored blocks/options: ['force', 'sampler', 'output']\n"
     ]
    }
   ],
   "source": [
    "model = get_model(info)"
   ]
  },
  {
   "cell_type": "code",
   "execution_count": 4,
   "id": "d44631a1-d2c3-4b1a-88cf-c182b0e054d4",
   "metadata": {},
   "outputs": [],
   "source": [
    "p0 = {}\n",
    "for p in info['params']:\n",
    "     if isinstance(info['params'][p], dict):\n",
    "         if 'ref' in info['params'][p]:\n",
    "             p0[p] = info['params'][p]['ref']['loc']\n",
    "#os.system('mkdir -p ' + info['output'])"
   ]
  },
  {
   "cell_type": "code",
   "execution_count": 5,
   "id": "a755f8e1-cc80-4b4d-a8f9-b8f30cd546f5",
   "metadata": {},
   "outputs": [
    {
     "data": {
      "text/plain": [
       "{'sigma8': 0.81, 'Omega_c': 0.27}"
      ]
     },
     "execution_count": 5,
     "metadata": {},
     "output_type": "execute_result"
    }
   ],
   "source": [
    "p0"
   ]
  },
  {
   "cell_type": "code",
   "execution_count": 6,
   "id": "8d8410d0-04c6-4579-82a5-5d8f573a0f38",
   "metadata": {},
   "outputs": [
    {
     "ename": "TypeError",
     "evalue": "Cosmology.__init__() got an unexpected keyword argument 'baryons_power_spectrum'",
     "output_type": "error",
     "traceback": [
      "\u001b[0;31m---------------------------------------------------------------------------\u001b[0m",
      "\u001b[0;31mTypeError\u001b[0m                                 Traceback (most recent call last)",
      "Cell \u001b[0;32mIn[6], line 1\u001b[0m\n\u001b[0;32m----> 1\u001b[0m loglikes, derived \u001b[38;5;241m=\u001b[39m \u001b[43mmodel\u001b[49m\u001b[38;5;241;43m.\u001b[39;49m\u001b[43mloglikes\u001b[49m\u001b[43m(\u001b[49m\u001b[43mp0\u001b[49m\u001b[43m)\u001b[49m\n\u001b[1;32m      2\u001b[0m \u001b[38;5;28mprint\u001b[39m(\u001b[38;5;124m\"\u001b[39m\u001b[38;5;124mchi2 = \u001b[39m\u001b[38;5;124m\"\u001b[39m, \u001b[38;5;241m-\u001b[39m\u001b[38;5;241m2\u001b[39m \u001b[38;5;241m*\u001b[39m loglikes[\u001b[38;5;241m0\u001b[39m])\n",
      "File \u001b[0;32m~/miniconda3/envs/clean/lib/python3.12/site-packages/cobaya/model.py:455\u001b[0m, in \u001b[0;36mModel.loglikes\u001b[0;34m(self, params_values, as_dict, make_finite, return_derived, cached)\u001b[0m\n\u001b[1;32m    453\u001b[0m params_values \u001b[38;5;241m=\u001b[39m \u001b[38;5;28mself\u001b[39m\u001b[38;5;241m.\u001b[39mparameterization\u001b[38;5;241m.\u001b[39mcheck_sampled(params_values)\n\u001b[1;32m    454\u001b[0m input_params \u001b[38;5;241m=\u001b[39m \u001b[38;5;28mself\u001b[39m\u001b[38;5;241m.\u001b[39mparameterization\u001b[38;5;241m.\u001b[39mto_input(params_values)\n\u001b[0;32m--> 455\u001b[0m \u001b[38;5;28;01mreturn\u001b[39;00m \u001b[38;5;28;43mself\u001b[39;49m\u001b[38;5;241;43m.\u001b[39;49m\u001b[43m_loglikes_input_params\u001b[49m\u001b[43m(\u001b[49m\u001b[43minput_params\u001b[49m\u001b[43m,\u001b[49m\u001b[43m \u001b[49m\u001b[43mreturn_derived\u001b[49m\u001b[38;5;241;43m=\u001b[39;49m\u001b[43mreturn_derived\u001b[49m\u001b[43m,\u001b[49m\n\u001b[1;32m    456\u001b[0m \u001b[43m                                   \u001b[49m\u001b[43mcached\u001b[49m\u001b[38;5;241;43m=\u001b[39;49m\u001b[43mcached\u001b[49m\u001b[43m,\u001b[49m\u001b[43m \u001b[49m\u001b[43mmake_finite\u001b[49m\u001b[38;5;241;43m=\u001b[39;49m\u001b[43mmake_finite\u001b[49m\u001b[43m,\u001b[49m\n\u001b[1;32m    457\u001b[0m \u001b[43m                                   \u001b[49m\u001b[43mas_dict\u001b[49m\u001b[38;5;241;43m=\u001b[39;49m\u001b[43mas_dict\u001b[49m\u001b[43m)\u001b[49m\n",
      "File \u001b[0;32m~/miniconda3/envs/clean/lib/python3.12/site-packages/cobaya/model.py:378\u001b[0m, in \u001b[0;36mModel._loglikes_input_params\u001b[0;34m(self, input_params, return_derived, return_output_params, as_dict, make_finite, cached)\u001b[0m\n\u001b[1;32m    376\u001b[0m depend_list \u001b[38;5;241m=\u001b[39m [input_params[p] \u001b[38;5;28;01mfor\u001b[39;00m p \u001b[38;5;129;01min\u001b[39;00m param_dep]\n\u001b[1;32m    377\u001b[0m params \u001b[38;5;241m=\u001b[39m {p: input_params[p] \u001b[38;5;28;01mfor\u001b[39;00m p \u001b[38;5;129;01min\u001b[39;00m component\u001b[38;5;241m.\u001b[39minput_params}\n\u001b[0;32m--> 378\u001b[0m compute_success \u001b[38;5;241m=\u001b[39m \u001b[43mcomponent\u001b[49m\u001b[38;5;241;43m.\u001b[39;49m\u001b[43mcheck_cache_and_compute\u001b[49m\u001b[43m(\u001b[49m\n\u001b[1;32m    379\u001b[0m \u001b[43m    \u001b[49m\u001b[43mparams\u001b[49m\u001b[43m,\u001b[49m\u001b[43m \u001b[49m\u001b[43mwant_derived\u001b[49m\u001b[38;5;241;43m=\u001b[39;49m\u001b[43mneed_derived\u001b[49m\u001b[43m,\u001b[49m\n\u001b[1;32m    380\u001b[0m \u001b[43m    \u001b[49m\u001b[43mdependency_params\u001b[49m\u001b[38;5;241;43m=\u001b[39;49m\u001b[43mdepend_list\u001b[49m\u001b[43m,\u001b[49m\u001b[43m \u001b[49m\u001b[43mcached\u001b[49m\u001b[38;5;241;43m=\u001b[39;49m\u001b[43mcached\u001b[49m\u001b[43m)\u001b[49m\n\u001b[1;32m    381\u001b[0m \u001b[38;5;28;01mif\u001b[39;00m \u001b[38;5;129;01mnot\u001b[39;00m compute_success:\n\u001b[1;32m    382\u001b[0m     loglikes[:] \u001b[38;5;241m=\u001b[39m \u001b[38;5;241m-\u001b[39mnp\u001b[38;5;241m.\u001b[39minf\n",
      "File \u001b[0;32m~/miniconda3/envs/clean/lib/python3.12/site-packages/cobaya/theory.py:253\u001b[0m, in \u001b[0;36mTheory.check_cache_and_compute\u001b[0;34m(self, params_values_dict, dependency_params, want_derived, cached)\u001b[0m\n\u001b[1;32m    251\u001b[0m     \u001b[38;5;28mself\u001b[39m\u001b[38;5;241m.\u001b[39mtimer\u001b[38;5;241m.\u001b[39mstart()\n\u001b[1;32m    252\u001b[0m \u001b[38;5;28;01mtry\u001b[39;00m:\n\u001b[0;32m--> 253\u001b[0m     \u001b[38;5;28;01mif\u001b[39;00m \u001b[38;5;28;43mself\u001b[39;49m\u001b[38;5;241;43m.\u001b[39;49m\u001b[43mcalculate\u001b[49m\u001b[43m(\u001b[49m\u001b[43mstate\u001b[49m\u001b[43m,\u001b[49m\u001b[43m \u001b[49m\u001b[43mwant_derived\u001b[49m\u001b[43m,\u001b[49m\u001b[43m \u001b[49m\u001b[38;5;241;43m*\u001b[39;49m\u001b[38;5;241;43m*\u001b[39;49m\u001b[43mparams_values_dict\u001b[49m\u001b[43m)\u001b[49m \u001b[38;5;129;01mis\u001b[39;00m \u001b[38;5;28;01mFalse\u001b[39;00m:\n\u001b[1;32m    254\u001b[0m         \u001b[38;5;28;01mreturn\u001b[39;00m \u001b[38;5;28;01mFalse\u001b[39;00m\n\u001b[1;32m    255\u001b[0m \u001b[38;5;28;01mexcept\u001b[39;00m always_stop_exceptions:\n",
      "File \u001b[0;32m~/Science/PossibleProjects/2022_WISCTomo/Cosmotheka_likelihoods/ClLike/cl_like/ccl.py:236\u001b[0m, in \u001b[0;36mCCL.calculate\u001b[0;34m(self, state, want_derived, **params_values_dict)\u001b[0m\n\u001b[1;32m    233\u001b[0m     params[\u001b[38;5;124m'\u001b[39m\u001b[38;5;124mA_s\u001b[39m\u001b[38;5;124m'\u001b[39m] \u001b[38;5;241m=\u001b[39m \u001b[38;5;28mself\u001b[39m\u001b[38;5;241m.\u001b[39m_get_As_from_sigma8(params)\n\u001b[1;32m    234\u001b[0m     \u001b[38;5;28;01mdel\u001b[39;00m params[\u001b[38;5;124m'\u001b[39m\u001b[38;5;124msigma8\u001b[39m\u001b[38;5;124m'\u001b[39m]\n\u001b[0;32m--> 236\u001b[0m cosmo \u001b[38;5;241m=\u001b[39m \u001b[43mccl\u001b[49m\u001b[38;5;241;43m.\u001b[39;49m\u001b[43mCosmology\u001b[49m\u001b[43m(\u001b[49m\u001b[38;5;241;43m*\u001b[39;49m\u001b[38;5;241;43m*\u001b[39;49m\u001b[43mparams\u001b[49m\u001b[43m,\u001b[49m\n\u001b[1;32m    237\u001b[0m \u001b[43m                      \u001b[49m\u001b[43mtransfer_function\u001b[49m\u001b[38;5;241;43m=\u001b[39;49m\u001b[38;5;28;43mself\u001b[39;49m\u001b[38;5;241;43m.\u001b[39;49m\u001b[43mtransfer_function\u001b[49m\u001b[43m,\u001b[49m\n\u001b[1;32m    238\u001b[0m \u001b[43m                      \u001b[49m\u001b[43mmatter_power_spectrum\u001b[49m\u001b[38;5;241;43m=\u001b[39;49m\u001b[38;5;28;43mself\u001b[39;49m\u001b[38;5;241;43m.\u001b[39;49m\u001b[43mmatter_pk\u001b[49m\u001b[43m,\u001b[49m\n\u001b[1;32m    239\u001b[0m \u001b[43m                      \u001b[49m\u001b[43mbaryons_power_spectrum\u001b[49m\u001b[38;5;241;43m=\u001b[39;49m\u001b[38;5;28;43mself\u001b[39;49m\u001b[38;5;241;43m.\u001b[39;49m\u001b[43mbaryons_pk\u001b[49m\u001b[43m,\u001b[49m\n\u001b[1;32m    240\u001b[0m \u001b[43m                      \u001b[49m\u001b[38;5;241;43m*\u001b[39;49m\u001b[38;5;241;43m*\u001b[39;49m\u001b[43mccl_arguments\u001b[49m\u001b[43m)\u001b[49m\n\u001b[1;32m    242\u001b[0m state[\u001b[38;5;124m'\u001b[39m\u001b[38;5;124mCCL\u001b[39m\u001b[38;5;124m'\u001b[39m] \u001b[38;5;241m=\u001b[39m {\u001b[38;5;124m'\u001b[39m\u001b[38;5;124mcosmo\u001b[39m\u001b[38;5;124m'\u001b[39m: cosmo}\n\u001b[1;32m    244\u001b[0m \u001b[38;5;66;03m# Compute derived parameters\u001b[39;00m\n\u001b[1;32m    245\u001b[0m \u001b[38;5;66;03m# (we should actually only do this if required -- TODO)\u001b[39;00m\n\u001b[1;32m    246\u001b[0m \u001b[38;5;66;03m# Compute sigma8 if it is not an input parameter\u001b[39;00m\n",
      "\u001b[0;31mTypeError\u001b[0m: Cosmology.__init__() got an unexpected keyword argument 'baryons_power_spectrum'"
     ]
    }
   ],
   "source": [
    "loglikes, derived = model.loglikes(p0)\n",
    "print(\"chi2 = \", -2 * loglikes[0])"
   ]
  },
  {
   "cell_type": "code",
   "execution_count": 17,
   "id": "9992e98b-4113-4b43-9c95-c603c90c804c",
   "metadata": {},
   "outputs": [
    {
     "name": "stdout",
     "output_type": "stream",
     "text": [
      "0 0.4\n",
      "1 0.40505050505050505\n",
      "2 0.41010101010101013\n",
      "3 0.41515151515151516\n",
      "4 0.42020202020202024\n",
      "5 0.42525252525252527\n",
      "6 0.4303030303030303\n",
      "7 0.4353535353535354\n",
      "8 0.4404040404040404\n",
      "9 0.4454545454545455\n",
      "10 0.4505050505050505\n",
      "11 0.4555555555555556\n",
      "12 0.46060606060606063\n",
      "13 0.46565656565656566\n",
      "14 0.47070707070707074\n",
      "15 0.47575757575757577\n",
      "16 0.48080808080808085\n",
      "17 0.4858585858585859\n",
      "18 0.49090909090909096\n",
      "19 0.495959595959596\n",
      "20 0.501010101010101\n",
      "21 0.5060606060606061\n",
      "22 0.5111111111111112\n",
      "23 0.5161616161616162\n",
      "24 0.5212121212121212\n",
      "25 0.5262626262626263\n",
      "26 0.5313131313131314\n",
      "27 0.5363636363636364\n",
      "28 0.5414141414141415\n",
      "29 0.5464646464646465\n",
      "30 0.5515151515151515\n",
      "31 0.5565656565656566\n",
      "32 0.5616161616161617\n",
      "33 0.5666666666666667\n",
      "34 0.5717171717171717\n",
      "35 0.5767676767676768\n",
      "36 0.5818181818181818\n",
      "37 0.5868686868686869\n",
      "38 0.591919191919192\n",
      "39 0.596969696969697\n",
      "40 0.6020202020202021\n",
      "41 0.6070707070707071\n",
      "42 0.6121212121212122\n",
      "43 0.6171717171717173\n",
      "44 0.6222222222222222\n",
      "45 0.6272727272727273\n",
      "46 0.6323232323232324\n",
      "47 0.6373737373737374\n",
      "48 0.6424242424242425\n",
      "49 0.6474747474747475\n",
      "50 0.6525252525252525\n",
      "51 0.6575757575757577\n",
      "52 0.6626262626262627\n",
      "53 0.6676767676767676\n",
      "54 0.6727272727272728\n",
      "55 0.6777777777777778\n",
      "56 0.6828282828282829\n",
      "57 0.687878787878788\n",
      "58 0.692929292929293\n",
      "59 0.697979797979798\n",
      "60 0.7030303030303031\n",
      "61 0.7080808080808081\n",
      "62 0.7131313131313132\n",
      "63 0.7181818181818183\n",
      "64 0.7232323232323232\n",
      "65 0.7282828282828283\n",
      "66 0.7333333333333334\n",
      "67 0.7383838383838384\n",
      "68 0.7434343434343436\n",
      "69 0.7484848484848485\n",
      "70 0.7535353535353536\n",
      "71 0.7585858585858587\n",
      "72 0.7636363636363637\n",
      "73 0.7686868686868688\n",
      "74 0.7737373737373738\n",
      "75 0.7787878787878788\n",
      "76 0.7838383838383839\n",
      "77 0.788888888888889\n",
      "78 0.793939393939394\n",
      "79 0.798989898989899\n",
      "80 0.8040404040404041\n",
      "81 0.8090909090909091\n",
      "82 0.8141414141414143\n",
      "83 0.8191919191919192\n",
      "84 0.8242424242424242\n",
      "85 0.8292929292929294\n",
      "86 0.8343434343434344\n",
      "87 0.8393939393939395\n",
      "88 0.8444444444444446\n",
      "89 0.8494949494949495\n",
      "90 0.8545454545454546\n",
      "91 0.8595959595959597\n",
      "92 0.8646464646464647\n",
      "93 0.8696969696969697\n",
      "94 0.8747474747474748\n",
      "95 0.8797979797979798\n",
      "96 0.8848484848484849\n",
      "97 0.88989898989899\n",
      "98 0.8949494949494949\n",
      "99 0.9\n"
     ]
    }
   ],
   "source": [
    "s8s = np.linspace(0.4, 0.9, 100)\n",
    "Oc = 0.27\n",
    "\n",
    "chi2s = np.zeros(100)\n",
    "\n",
    "for is8, s8 in enumerate(s8s):\n",
    "    print(is8, s8)\n",
    "    p = {'sigma8': s8, 'Omega_c': Oc}\n",
    "    ll, _ = model.loglikes(p)\n",
    "    chi2s[is8] = -2*ll[0]"
   ]
  },
  {
   "cell_type": "code",
   "execution_count": 20,
   "id": "9b396000-82ca-468a-a8b2-1d3eac2c446e",
   "metadata": {},
   "outputs": [],
   "source": [
    "import matplotlib.pyplot as plt"
   ]
  },
  {
   "cell_type": "code",
   "execution_count": 22,
   "id": "a98c7031-56fe-4e85-9c80-fd58264688bc",
   "metadata": {},
   "outputs": [
    {
     "data": {
      "text/plain": [
       "[<matplotlib.lines.Line2D at 0x7e5578e1d2d0>]"
      ]
     },
     "execution_count": 22,
     "metadata": {},
     "output_type": "execute_result"
    },
    {
     "data": {
      "image/png": "[encoded data removed]",
      "text/plain": [
       "<Figure size 640x480 with 1 Axes>"
      ]
     },
     "metadata": {},
     "output_type": "display_data"
    }
   ],
   "source": [
    "plt.plot(s8s, np.exp(-0.5*(chi2s-np.amin(chi2s))))"
   ]
  },
  {
   "cell_type": "code",
   "execution_count": 27,
   "id": "9a54ae57-ea2b-4697-a011-02327f710f0e",
   "metadata": {},
   "outputs": [
    {
     "data": {
      "text/plain": [
       "array([166.20041334, 162.18932227, 160.55759799, 157.36994128,\n",
       "       156.52999833, 153.19201288, 150.74467234, 148.26372655,\n",
       "       146.19944322, 144.15487917, 141.30979399, 139.28566664,\n",
       "       137.58311176, 133.78455886, 132.59378842, 130.30638342,\n",
       "       128.54314882, 126.93686629, 123.69522602, 122.80727632,\n",
       "       119.8404242 , 117.98269124, 116.8032349 , 114.77103518,\n",
       "       114.07603836, 111.73552186, 109.81294208, 108.42730817,\n",
       "       107.40146935, 105.92337529, 104.33041372, 102.38079988,\n",
       "       101.71149913,  99.68765293,  98.06162726,  97.26239533,\n",
       "        96.15505836,  95.20490251,  93.89609805,  92.65116271,\n",
       "        92.13376148,  91.44918241,  89.44955398,  89.40802948,\n",
       "        88.17509183,  87.59716006,  86.84333032,  86.18527142,\n",
       "        86.22233723,  85.27835337,  84.62771967,  84.51745938,\n",
       "        84.45539989,  83.83895469,  83.72905402,  83.68539555,\n",
       "        83.67484015,  83.72488417,  83.8572991 ,  84.34795714,\n",
       "        84.77048343,  84.86182849,  85.43496645,  86.39449927,\n",
       "        86.93948795,  86.41803076,  87.95060433,  88.58022319,\n",
       "        90.06124848,  92.10646372,  92.18961869,  95.88724944,\n",
       "        95.95053877,  97.32930819,  99.00611179,  99.7563528 ,\n",
       "       101.06030241, 102.22317697, 103.18303167, 104.257884  ,\n",
       "       105.28441693, 106.33076584, 107.43524383, 108.51975195,\n",
       "       109.63133735, 110.69982819, 111.82902642, 112.91772087,\n",
       "       114.02086155, 115.12140045, 116.22625769, 117.32816782,\n",
       "       118.44337494, 119.55064083, 120.6411454 , 121.83286001,\n",
       "       122.89867542, 124.03336176, 125.16993063, 126.38182727])"
      ]
     },
     "execution_count": 27,
     "metadata": {},
     "output_type": "execute_result"
    }
   ],
   "source": [
    "chi2s"
   ]
  },
  {
   "cell_type": "code",
   "execution_count": 23,
   "id": "b06b79d2-5a21-48d3-a0dd-26b7110ca8e6",
   "metadata": {},
   "outputs": [],
   "source": [
    "import pyccl as ccl\n",
    "cosmo = ccl.CosmologyVanillaLCDM()"
   ]
  },
  {
   "cell_type": "code",
   "execution_count": 26,
   "id": "b2352184-8314-4469-a82e-3badc6a1726f",
   "metadata": {},
   "outputs": [
    {
     "data": {
      "text/plain": [
       "[<matplotlib.lines.Line2D at 0x7e55782cd610>]"
      ]
     },
     "execution_count": 26,
     "metadata": {},
     "output_type": "execute_result"
    },
    {
     "data": {
      "image/png": "[encoded data removed]",
      "text/plain": [
       "<Figure size 640x480 with 1 Axes>"
      ]
     },
     "metadata": {},
     "output_type": "display_data"
    }
   ],
   "source": [
    "z = np.linspace(0, 3, 1024)\n",
    "nz = np.exp(-0.5*((z-2.0)/0.05)**2)\n",
    "t = ccl.WeakLensingTracer(cosmo, dndz=(z, nz))\n",
    "chi = ccl.comoving_radial_distance(cosmo, 1/(1+z))\n",
    "qs = t.get_kernel(chi)[0]\n",
    "plt.plot(z, qs)"
   ]
  },
  {
   "cell_type": "code",
   "execution_count": null,
   "id": "b025cea1-4b39-4c38-af1e-53082ca5b0d6",
   "metadata": {},
   "outputs": [],
   "source": [
    "ls = np.linspace(2, 2000, 200)\n",
    "cl = ccl.angu"
   ]
  }
 ],
 "metadata": {
  "kernelspec": {
   "display_name": "Python 3 (ipykernel)",
   "language": "python",
   "name": "python3"
  },
  "language_info": {
   "codemirror_mode": {
    "name": "ipython",
    "version": 3
   },
   "file_extension": ".py",
   "mimetype": "text/x-python",
   "name": "python",
   "nbconvert_exporter": "python",
   "pygments_lexer": "ipython3",
   "version": "3.12.2"
  }
 },
 "nbformat": 4,
 "nbformat_minor": 5
}
