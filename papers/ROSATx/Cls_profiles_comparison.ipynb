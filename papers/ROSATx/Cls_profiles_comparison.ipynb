{
 "cells": [
  {
   "cell_type": "code",
   "execution_count": 1,
   "id": "f81392a5",
   "metadata": {},
   "outputs": [],
   "source": [
    "import sacc\n",
    "import numpy as np\n",
    "import pyccl as ccl\n",
    "import rosatX as rx\n",
    "import pyatomdb\n",
    "from astropy.io import fits\n",
    "import matplotlib.pyplot as plt\n",
    "from matplotlib import rc\n",
    "import os\n",
    "import pickle\n",
    "\n",
    "rc(\"font\", **{\"family\": \"sans-serif\", \"sans-serif\": [\"Helvetica\"]})\n",
    "rc(\"text\", usetex=True)\n",
    "\n",
    "my_colours = ['#4DAF4A', '#377EB8', '#984EA3', '#E41A1C', '#FF7F00']"
   ]
  },
  {
   "cell_type": "markdown",
   "id": "3a639dca",
   "metadata": {},
   "source": [
    "## Loading the data"
   ]
  },
  {
   "cell_type": "code",
   "execution_count": 2,
   "id": "70d9b6dd",
   "metadata": {},
   "outputs": [],
   "source": [
    "# Load response matrices\n",
    "rmf = fits.open(\"data/pspcc_gain1_256.rmf\")\n",
    "arf = fits.open(\"data/pspcc_gain1_256.arf\")\n",
    "\n",
    "cls_cov = sacc.Sacc.load_fits(\"data/cls_cov_y3.fits\")\n",
    "ROSAT, DESY3wl__3, cov = cls_cov.get_ell_cl(\n",
    "    \"cl_0e\", \"ROSAT\", \"DESY3wl__3\", return_cov=True)\n",
    "err = np.sqrt(np.diagonal(cov))"
   ]
  },
  {
   "cell_type": "markdown",
   "id": "4b32fae5",
   "metadata": {},
   "source": [
    "## Initialising defaults and tracers"
   ]
  },
  {
   "cell_type": "code",
   "execution_count": 3,
   "id": "914b99e6",
   "metadata": {},
   "outputs": [],
   "source": [
    "# Set up cosmology and halo profiles\n",
    "cosmo = ccl.CosmologyVanillaLCDM()\n",
    "mdef = ccl.halos.MassDef200c\n",
    "cM = ccl.halos.ConcentrationDuffy08(mass_def=mdef)\n",
    "\n",
    "dmat = ccl.halos.HaloProfileNFW(mass_def=mdef, concentration=cM)\n",
    "nM = ccl.halos.MassFuncTinker08(mass_def=mdef)\n",
    "bM = ccl.halos.HaloBiasTinker10(mass_def=mdef)\n",
    "hmc = ccl.halos.HMCalculator(mass_def=mdef,\n",
    "                             mass_function=nM,\n",
    "                             halo_bias=bM,\n",
    "                             log10M_max=15.0,\n",
    "                             log10M_min=10,\n",
    "                             nM=32)\n",
    "\n",
    "# Redshift and number density\n",
    "zs = cls_cov.tracers[\"DESY3wl__3\"].z\n",
    "nz = cls_cov.tracers[\"DESY3wl__3\"].nz\n",
    "\n",
    "# X-ray tracer\n",
    "tx = rx.XrayTracer(cosmo)\n",
    "\n",
    "# Weak lensing tracer\n",
    "ts = ccl.WeakLensingTracer(cosmo, dndz=(zs, nz))"
   ]
  },
  {
   "cell_type": "markdown",
   "id": "2687117d",
   "metadata": {},
   "source": [
    "## Calculating the X-ray Spectrum"
   ]
  },
  {
   "cell_type": "code",
   "execution_count": 4,
   "id": "4ec45282",
   "metadata": {},
   "outputs": [],
   "source": [
    "# Initialize ROSAT spectrum session\n",
    "rosat = pyatomdb.spectrum.CIESession()\n",
    "rosat.set_response(rmf, arf)\n",
    "\n",
    "# Set the metallicity to 0.3 of the solar value\n",
    "Zmetal = 0.3\n",
    "Zs = np.ones(31)\n",
    "Zs[3:] = Zmetal\n",
    "rosat.set_abund(np.arange(31, dtype=int), Zs)\n",
    "\n",
    "# Setting for X-ray parameters\n",
    "kTmin = 0.02\n",
    "kTmax = 50.0\n",
    "nkT = 32\n",
    "zmax = 4.0\n",
    "nz = 16\n",
    "emin = 0.5\n",
    "emax = 2.0\n",
    "\n",
    "# Load or calculate integrated X-ray spectra\n",
    "if os.path.isfile(\"data/Jtot.pck\"):\n",
    "    with open(\"data/Jtot.pck\", \"rb\") as f:\n",
    "        J_tot = pickle.load(f)\n",
    "else:\n",
    "    J_tot = rosat.return_integrated_spectrum_interp(\n",
    "        kTmin, kTmax, nkT, zmax, nz, emin, emax)\n",
    "    with open(\"data/Jtot.pck\", \"wb\") as f:\n",
    "        pickle.dump(J_tot, f)\n",
    "\n",
    "# Load or calculate continuum-only X-ray spectra\n",
    "if os.path.isfile(\"data/Jcont.pck\"):\n",
    "    with open(\"data/Jcont.pck\", \"rb\") as f:\n",
    "        J_cont = pickle.load(f)\n",
    "else:\n",
    "    J_cont = rosat.return_integrated_spectrum_interp(\n",
    "        kTmin, kTmax, nkT, zmax, nz, emin, emax, dolines=False, dopseudo=False)\n",
    "    with open(\"data/Jcont.pck\", \"wb\") as f:\n",
    "        pickle.dump(J_cont, f)"
   ]
  },
  {
   "cell_type": "markdown",
   "id": "cb4a6d31",
   "metadata": {},
   "source": [
    "## Calculating the X-ray profiles"
   ]
  },
  {
   "cell_type": "code",
   "execution_count": 5,
   "id": "5546984e",
   "metadata": {},
   "outputs": [],
   "source": [
    "a = 1.0\n",
    "x = np.geomspace(0.001, 5, 128)\n",
    "M = 1e14\n",
    "r200 = mdef.get_radius(cosmo, M, a) / a\n",
    "r = r200 * x\n",
    "\n",
    "# Battaglia\n",
    "density_bg = rx.HaloProfileDensityBattaglia(\n",
    "                mass_def=mdef, kind=\"n_total\")\n",
    "pressure_bg = rx.HaloProfilePressureBattaglia(\n",
    "                mass_def=mdef, kind=\"n_total\", kind_P=\"n_total\")\n",
    "\n",
    "x_bg = rx.HaloProfileXray(mass_def=mdef,\n",
    "                          J=J_tot,\n",
    "                          density=density_bg,\n",
    "                          pressure=pressure_bg,\n",
    "                          fourier_approx=False,\n",
    "                          with_clumping=True)\n",
    "\n",
    "# NFW\n",
    "density_nfw = rx.HaloProfileDensityNFW(\n",
    "                mass_def=mdef, kind=\"n_total\", concentration=cM)\n",
    "pressure_nfw = rx.HaloProfilePressureNFW(\n",
    "                mass_def=mdef, kind=\"n_total\", concentration=cM)\n",
    "\n",
    "x_nfw = rx.HaloProfileXray(mass_def=mdef,\n",
    "                           J=J_tot,\n",
    "                           density=density_nfw,\n",
    "                           pressure=pressure_nfw,\n",
    "                           fourier_approx=False,\n",
    "                           plaw_fourier=-2.7)\n",
    "\n",
    "# Hydrostatic Equilibirum\n",
    "density_he = rx.HaloProfileDensityHE(\n",
    "                mass_def=mdef, kind=\"n_total\", concentration=cM)\n",
    "pressure_he = rx.HaloProfilePressureHE(\n",
    "                mass_def=mdef, kind=\"n_total\", concentration=cM)\n",
    "# Full\n",
    "x_he = rx.HaloProfileXray(mass_def=mdef,\n",
    "                          J=J_tot,\n",
    "                          density=density_he,\n",
    "                          pressure=pressure_he,\n",
    "                          fourier_approx=False,\n",
    "                          with_clumping=True)\n",
    "# Continuum only\n",
    "x_he_cont = rx.HaloProfileXray(mass_def=mdef,\n",
    "                          J=J_cont,\n",
    "                          density=density_he,\n",
    "                          pressure=pressure_he,\n",
    "                          fourier_approx=False,\n",
    "                          with_clumping=True)"
   ]
  },
  {
   "cell_type": "markdown",
   "id": "e5790081",
   "metadata": {},
   "source": [
    "## Calculating the $P(k)$s and $C_\\ell$s"
   ]
  },
  {
   "cell_type": "code",
   "execution_count": 6,
   "id": "c3883dca",
   "metadata": {},
   "outputs": [],
   "source": [
    "k_arr = np.geomspace(1e-4, 1e2, 256)\n",
    "a_arr = np.linspace(0.3, 1, 8)\n",
    "ls = np.unique(np.geomspace(2, 3100, 128).astype(int)).astype(float)\n",
    "\n",
    "\n",
    "pk_bg = ccl.halos.halomod_Pk2D(cosmo, hmc, dmat,\n",
    "                               prof2=x_bg, lk_arr=np.log(k_arr), a_arr=a_arr)\n",
    "cl = ccl.angular_cl(cosmo, ts, tx, ls, p_of_k_a=pk_bg)\n",
    "cl_bg = rx.profiles.cl_smoothed(cl, ls)\n",
    "\n",
    "\n",
    "pk_nfw = ccl.halos.halomod_Pk2D(cosmo, hmc, dmat,\n",
    "                                prof2=x_nfw, lk_arr=np.log(k_arr), a_arr=a_arr)\n",
    "cl = ccl.angular_cl(cosmo, ts, tx, ls, p_of_k_a=pk_nfw)\n",
    "cl_nfw = rx.profiles.cl_smoothed(cl, ls)\n",
    "\n",
    "\n",
    "pk_he = ccl.halos.halomod_Pk2D(cosmo, hmc, dmat,\n",
    "                               prof2=x_he, lk_arr=np.log(k_arr), a_arr=a_arr)\n",
    "cl = ccl.angular_cl(cosmo, ts, tx, ls, p_of_k_a=pk_he)\n",
    "cl_he = rx.profiles.cl_smoothed(cl, ls)\n",
    "\n",
    "pk_he_cont = ccl.halos.halomod_Pk2D(cosmo, hmc, dmat,\n",
    "                                    prof2=x_he_cont, lk_arr=np.log(k_arr), a_arr=a_arr)\n",
    "cl = ccl.angular_cl(cosmo, ts, tx, ls, p_of_k_a=pk_he_cont)\n",
    "cl_he_cont = rx.profiles.cl_smoothed(cl, ls)"
   ]
  },
  {
   "cell_type": "markdown",
   "id": "2eb5b836",
   "metadata": {},
   "source": [
    "## Plotting the $C_\\ell$s"
   ]
  },
  {
   "cell_type": "code",
   "execution_count": 7,
   "id": "a641885e",
   "metadata": {},
   "outputs": [
    {
     "data": {
      "image/png": "[encoded data removed]",
      "text/plain": [
       "<Figure size 640x480 with 1 Axes>"
      ]
     },
     "metadata": {},
     "output_type": "display_data"
    }
   ],
   "source": [
    "plt.plot(ls, cl_bg,\n",
    "         color=my_colours[0],\n",
    "         label=\"Battaglia profile\")\n",
    "plt.plot(ls, cl_nfw,\n",
    "         color=my_colours[2],\n",
    "         label=\"NFW\")\n",
    "plt.plot(ls, cl_he,\n",
    "         color=my_colours[4],\n",
    "         label=\"Hydrostatic equilibrium profile\")\n",
    "plt.plot(ls, cl_he_cont,\n",
    "         color=my_colours[4],\n",
    "         linestyle=\"--\",\n",
    "         label=\"Continuum only\")\n",
    "plt.errorbar(ROSAT, DESY3wl__3, yerr=err, fmt=\"k.\")\n",
    "plt.loglog()\n",
    "plt.xlabel(r\"$\\ell$\", fontsize=15)\n",
    "plt.ylabel(r\"$C_\\ell$\", fontsize=15)\n",
    "plt.legend()\n",
    "\n",
    "plt.savefig('Plots/Cls_profiles_comparison.pdf');"
   ]
  }
 ],
 "metadata": {
  "kernelspec": {
   "display_name": "Python 3 (ipykernel)",
   "language": "python",
   "name": "python3"
  },
  "language_info": {
   "codemirror_mode": {
    "name": "ipython",
    "version": 3
   },
   "file_extension": ".py",
   "mimetype": "text/x-python",
   "name": "python",
   "nbconvert_exporter": "python",
   "pygments_lexer": "ipython3",
   "version": "3.10.4"
  }
 },
 "nbformat": 4,
 "nbformat_minor": 5
}
